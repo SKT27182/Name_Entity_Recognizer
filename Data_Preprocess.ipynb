{
 "cells": [
  {
   "cell_type": "markdown",
   "metadata": {},
   "source": [
    "# imports"
   ]
  },
  {
   "cell_type": "code",
   "execution_count": 1,
   "metadata": {},
   "outputs": [],
   "source": [
    "import pandas as pd\n",
    "import numpy as np\n",
    "\n",
    "import re\n",
    "\n",
    "import nltk\n",
    "from nltk.tokenize import word_tokenize\n",
    "\n",
    "from datasets import Dataset\n",
    "\n",
    "pd.set_option('display.max_colwidth', None)"
   ]
  },
  {
   "cell_type": "markdown",
   "metadata": {},
   "source": [
    "# data_load"
   ]
  },
  {
   "cell_type": "code",
   "execution_count": 2,
   "metadata": {},
   "outputs": [],
   "source": [
    "df1 = pd.read_excel(\"Continual_Learning/G1.xlsx\", index_col=0)\n",
    "df2 = pd.read_excel(\"Continual_Learning/G2.xlsx\", index_col=0)\n",
    "df3 = pd.read_excel(\"Continual_Learning/G3.xlsx\", index_col=0)"
   ]
  },
  {
   "cell_type": "code",
   "execution_count": 3,
   "metadata": {},
   "outputs": [],
   "source": [
    "# Dropping any rows with NaN values\n",
    "df1 = df1.dropna()\n",
    "df2 = df2.dropna()\n",
    "df3 = df3.dropna()"
   ]
  },
  {
   "cell_type": "code",
   "execution_count": 4,
   "metadata": {},
   "outputs": [
    {
     "data": {
      "text/html": [
       "<div>\n",
       "<style scoped>\n",
       "    .dataframe tbody tr th:only-of-type {\n",
       "        vertical-align: middle;\n",
       "    }\n",
       "\n",
       "    .dataframe tbody tr th {\n",
       "        vertical-align: top;\n",
       "    }\n",
       "\n",
       "    .dataframe thead th {\n",
       "        text-align: right;\n",
       "    }\n",
       "</style>\n",
       "<table border=\"1\" class=\"dataframe\">\n",
       "  <thead>\n",
       "    <tr style=\"text-align: right;\">\n",
       "      <th></th>\n",
       "      <th>tags</th>\n",
       "      <th>text</th>\n",
       "    </tr>\n",
       "  </thead>\n",
       "  <tbody>\n",
       "    <tr>\n",
       "      <th>0</th>\n",
       "      <td>8:16:chronic_disease,20:32:treatment</td>\n",
       "      <td>portal fibrosis by liver biopsy</td>\n",
       "    </tr>\n",
       "    <tr>\n",
       "      <th>1</th>\n",
       "      <td>22:34:treatment</td>\n",
       "      <td>Contra-indication to liver biopsy</td>\n",
       "    </tr>\n",
       "    <tr>\n",
       "      <th>2</th>\n",
       "      <td>,32:44:treatment,,</td>\n",
       "      <td>Have a stable weight since the liver biopsy was performed defined by no more than a 5 % loss of initial body weight</td>\n",
       "    </tr>\n",
       "    <tr>\n",
       "      <th>3</th>\n",
       "      <td>26:38:treatment,</td>\n",
       "      <td>Subject agrees to have a liver biopsy performed after 24 weeks of treatment</td>\n",
       "    </tr>\n",
       "    <tr>\n",
       "      <th>4</th>\n",
       "      <td>,43:55:treatment,</td>\n",
       "      <td>Liver steatosis (on visual estimate or on liver biopsy) &gt; 30%</td>\n",
       "    </tr>\n",
       "  </tbody>\n",
       "</table>\n",
       "</div>"
      ],
      "text/plain": [
       "                                   tags  \\\n",
       "0  8:16:chronic_disease,20:32:treatment   \n",
       "1                       22:34:treatment   \n",
       "2                    ,32:44:treatment,,   \n",
       "3                      26:38:treatment,   \n",
       "4                     ,43:55:treatment,   \n",
       "\n",
       "                                                                                                                  text  \n",
       "0                                                                                      portal fibrosis by liver biopsy  \n",
       "1                                                                                    Contra-indication to liver biopsy  \n",
       "2  Have a stable weight since the liver biopsy was performed defined by no more than a 5 % loss of initial body weight  \n",
       "3                                          Subject agrees to have a liver biopsy performed after 24 weeks of treatment  \n",
       "4                                                        Liver steatosis (on visual estimate or on liver biopsy) > 30%  "
      ]
     },
     "execution_count": 4,
     "metadata": {},
     "output_type": "execute_result"
    }
   ],
   "source": [
    "df1[[\"tags\", \"text\"]].head()"
   ]
  },
  {
   "cell_type": "markdown",
   "metadata": {},
   "source": [
    "# Preprocessing"
   ]
  },
  {
   "cell_type": "markdown",
   "metadata": {},
   "source": [
    "- Creating the following tagging scheme for the NER task:\n",
    "\n",
    "\n",
    "| Entity_name | Token |\n",
    "| --- | --- |\n",
    "| Other | 0 |\n",
    "| treatment | 1 |\n",
    "| chronic_disease | 2 |\n",
    "| cancer | 3 |\n",
    "| allergy_name | 4 |"
   ]
  },
  {
   "cell_type": "code",
   "execution_count": 5,
   "metadata": {},
   "outputs": [],
   "source": [
    "entity_ids = {\n",
    "    \"treatment\": 1,\n",
    "    \"chronic_disease\": 2,\n",
    "    \"cancer\": 3,\n",
    "    \"allergy_name\": 4,\n",
    "    }\n",
    "    "
   ]
  },
  {
   "cell_type": "code",
   "execution_count": 6,
   "metadata": {},
   "outputs": [],
   "source": [
    "def find_word_index(txt, word):\n",
    "    pattern = re.compile(r'\\b{}\\b'.format(re.escape(word)))\n",
    "\n",
    "    # Find the index of the element containing the pattern\n",
    "    word_index = next((index for index, element in enumerate(txt) if pattern.search(element)), None)\n",
    "\n",
    "    return word_index\n",
    "\n",
    "def get_ner_tokens(row):\n",
    "\n",
    "    # Few tags have leading and trailing commas, removing them\n",
    "    tag = row.tags.strip(\",\").strip()    # start:end:name, start:end:name, ... (start and end are in character level)\n",
    "\n",
    "    # removing leading and trailing whitespace\n",
    "    txt = row.text\n",
    "\n",
    "\n",
    "    try:\n",
    "        # txt = txt.split()\n",
    "        original_txt = txt\n",
    "        txt = word_tokenize(row[\"text\"])\n",
    "    except:\n",
    "        # print(tag, txt)\n",
    "        return None, None\n",
    "\n",
    "    \n",
    "\n",
    "    # labeled every word as other\n",
    "    labels = np.zeros(len(txt))\n",
    "\n",
    "    # iterate over all tages and mark them with their token\n",
    "    for t in tag.split(\",\"):\n",
    "        if t == \"\":\n",
    "            continue\n",
    "        start, end, name = t.split(\":\")\n",
    "\n",
    "        # as first character is considered as 1 in the dataset, but in python it is 0\n",
    "        start, end = int(start), int(end)\n",
    "        start -= 1\n",
    "        end -= 1\n",
    "\n",
    "        exact_word = original_txt[start:end]\n",
    "\n",
    "        n_exact_words = len(exact_word.split())\n",
    "\n",
    "        # check if word is more than one word, if yes then get the index of the first word and save total number of words\n",
    "        if n_exact_words > 1:\n",
    "\n",
    "            exact_word = exact_word.split()[0]\n",
    "\n",
    "            word_index = find_word_index(txt, exact_word)\n",
    "            # word_index = txt.index(exact_word)\n",
    "            try:\n",
    "                for i in range(word_index, word_index+n_exact_words):\n",
    "                    labels[i] = entity_ids[name]\n",
    "            except:\n",
    "                # print(txt, exact_word, word_index, n_exact_words)\n",
    "                return None, None\n",
    "\n",
    "        else:\n",
    "            \n",
    "\n",
    "            word_index = find_word_index(txt, exact_word)\n",
    "\n",
    "            labels[word_index] = entity_ids[name]\n",
    "\n",
    "    return txt, labels\n",
    "\n"
   ]
  },
  {
   "cell_type": "code",
   "execution_count": 7,
   "metadata": {},
   "outputs": [],
   "source": [
    "df1[\"tokens\"], df1[\"ner_tags\"] = zip(*df1.apply(get_ner_tokens, axis=1))\n",
    "df2[\"tokens\"], df2[\"ner_tags\"] = zip(*df2.apply(get_ner_tokens, axis=1))\n",
    "df3[\"tokens\"], df3[\"ner_tags\"] = zip(*df3.apply(get_ner_tokens, axis=1))"
   ]
  },
  {
   "cell_type": "code",
   "execution_count": 8,
   "metadata": {},
   "outputs": [
    {
     "data": {
      "text/html": [
       "<div>\n",
       "<style scoped>\n",
       "    .dataframe tbody tr th:only-of-type {\n",
       "        vertical-align: middle;\n",
       "    }\n",
       "\n",
       "    .dataframe tbody tr th {\n",
       "        vertical-align: top;\n",
       "    }\n",
       "\n",
       "    .dataframe thead th {\n",
       "        text-align: right;\n",
       "    }\n",
       "</style>\n",
       "<table border=\"1\" class=\"dataframe\">\n",
       "  <thead>\n",
       "    <tr style=\"text-align: right;\">\n",
       "      <th></th>\n",
       "      <th>ID</th>\n",
       "      <th>tags</th>\n",
       "      <th>text</th>\n",
       "      <th>tokens</th>\n",
       "      <th>ner_tags</th>\n",
       "    </tr>\n",
       "  </thead>\n",
       "  <tbody>\n",
       "    <tr>\n",
       "      <th>3146</th>\n",
       "      <td>NCT02770547</td>\n",
       "      <td>1:22:chronic_disease,,,</td>\n",
       "      <td>Uncontrolled Diabetes (HbA1C &gt; 8.5 measured within 3 months prior to date of consent)</td>\n",
       "      <td>[Uncontrolled, Diabetes, (, HbA1C, &gt;, 8.5, measured, within, 3, months, prior, to, date, of, consent, )]</td>\n",
       "      <td>[2.0, 2.0, 0.0, 0.0, 0.0, 0.0, 0.0, 0.0, 0.0, 0.0, 0.0, 0.0, 0.0, 0.0, 0.0, 0.0]</td>\n",
       "    </tr>\n",
       "    <tr>\n",
       "      <th>4235</th>\n",
       "      <td>NCT02532621</td>\n",
       "      <td>53:88:chronic_disease</td>\n",
       "      <td>Subject has a documented and unsuccessfully treated ipsilateral central venous stenosis as determined by imaging</td>\n",
       "      <td>[Subject, has, a, documented, and, unsuccessfully, treated, ipsilateral, central, venous, stenosis, as, determined, by, imaging]</td>\n",
       "      <td>[0.0, 0.0, 0.0, 0.0, 0.0, 0.0, 0.0, 2.0, 2.0, 2.0, 2.0, 0.0, 0.0, 0.0, 0.0]</td>\n",
       "    </tr>\n",
       "    <tr>\n",
       "      <th>3368</th>\n",
       "      <td>NCT02272998</td>\n",
       "      <td>1:30:treatment</td>\n",
       "      <td>anti-hypertensive medications are permitted</td>\n",
       "      <td>[anti-hypertensive, medications, are, permitted]</td>\n",
       "      <td>[1.0, 1.0, 0.0, 0.0]</td>\n",
       "    </tr>\n",
       "    <tr>\n",
       "      <th>7311</th>\n",
       "      <td>NCT00840047</td>\n",
       "      <td>101:104:treatment,105:108:treatment,109:111:treatment,123:126:treatment,</td>\n",
       "      <td>Participants will have had, or are scheduled to have clinical imaging evaluations which may include FDG PET CT, or CT, or MRI within 4 weeks of entry</td>\n",
       "      <td>[Participants, will, have, had, ,, or, are, scheduled, to, have, clinical, imaging, evaluations, which, may, include, FDG, PET, CT, ,, or, CT, ,, or, MRI, within, 4, weeks, of, entry]</td>\n",
       "      <td>[0.0, 0.0, 0.0, 0.0, 0.0, 0.0, 0.0, 0.0, 0.0, 0.0, 0.0, 0.0, 0.0, 0.0, 0.0, 0.0, 1.0, 1.0, 1.0, 0.0, 0.0, 0.0, 0.0, 0.0, 1.0, 0.0, 0.0, 0.0, 0.0, 0.0]</td>\n",
       "    </tr>\n",
       "    <tr>\n",
       "      <th>5998</th>\n",
       "      <td>NCT02553941</td>\n",
       "      <td>1:11:cancer,25:40:treatment,,122:132:treatment</td>\n",
       "      <td>Malignancy treated with curative intent and with no known active disease present for &gt;= 1 years before the first dose of study drug and felt to be at low risk for recurrence by treating physician</td>\n",
       "      <td>[Malignancy, treated, with, curative, intent, and, with, no, known, active, disease, present, for, &gt;, =, 1, years, before, the, first, dose, of, study, drug, and, felt, to, be, at, low, risk, for, recurrence, by, treating, physician]</td>\n",
       "      <td>[3.0, 0.0, 0.0, 1.0, 1.0, 0.0, 0.0, 0.0, 0.0, 0.0, 0.0, 0.0, 0.0, 0.0, 0.0, 0.0, 0.0, 0.0, 0.0, 0.0, 0.0, 0.0, 1.0, 1.0, 0.0, 0.0, 0.0, 0.0, 0.0, 0.0, 0.0, 0.0, 0.0, 0.0, 0.0, 0.0]</td>\n",
       "    </tr>\n",
       "  </tbody>\n",
       "</table>\n",
       "</div>"
      ],
      "text/plain": [
       "               ID  \\\n",
       "3146  NCT02770547   \n",
       "4235  NCT02532621   \n",
       "3368  NCT02272998   \n",
       "7311  NCT00840047   \n",
       "5998  NCT02553941   \n",
       "\n",
       "                                                                          tags  \\\n",
       "3146                                                   1:22:chronic_disease,,,   \n",
       "4235                                                     53:88:chronic_disease   \n",
       "3368                                                            1:30:treatment   \n",
       "7311  101:104:treatment,105:108:treatment,109:111:treatment,123:126:treatment,   \n",
       "5998                            1:11:cancer,25:40:treatment,,122:132:treatment   \n",
       "\n",
       "                                                                                                                                                                                                     text  \\\n",
       "3146                                                                                                                Uncontrolled Diabetes (HbA1C > 8.5 measured within 3 months prior to date of consent)   \n",
       "4235                                                                                     Subject has a documented and unsuccessfully treated ipsilateral central venous stenosis as determined by imaging   \n",
       "3368                                                                                                                                                          anti-hypertensive medications are permitted   \n",
       "7311                                                Participants will have had, or are scheduled to have clinical imaging evaluations which may include FDG PET CT, or CT, or MRI within 4 weeks of entry   \n",
       "5998  Malignancy treated with curative intent and with no known active disease present for >= 1 years before the first dose of study drug and felt to be at low risk for recurrence by treating physician   \n",
       "\n",
       "                                                                                                                                                                                                                                         tokens  \\\n",
       "3146                                                                                                                                   [Uncontrolled, Diabetes, (, HbA1C, >, 8.5, measured, within, 3, months, prior, to, date, of, consent, )]   \n",
       "4235                                                                                                           [Subject, has, a, documented, and, unsuccessfully, treated, ipsilateral, central, venous, stenosis, as, determined, by, imaging]   \n",
       "3368                                                                                                                                                                                           [anti-hypertensive, medications, are, permitted]   \n",
       "7311                                                    [Participants, will, have, had, ,, or, are, scheduled, to, have, clinical, imaging, evaluations, which, may, include, FDG, PET, CT, ,, or, CT, ,, or, MRI, within, 4, weeks, of, entry]   \n",
       "5998  [Malignancy, treated, with, curative, intent, and, with, no, known, active, disease, present, for, >, =, 1, years, before, the, first, dose, of, study, drug, and, felt, to, be, at, low, risk, for, recurrence, by, treating, physician]   \n",
       "\n",
       "                                                                                                                                                                                  ner_tags  \n",
       "3146                                                                                                      [2.0, 2.0, 0.0, 0.0, 0.0, 0.0, 0.0, 0.0, 0.0, 0.0, 0.0, 0.0, 0.0, 0.0, 0.0, 0.0]  \n",
       "4235                                                                                                           [0.0, 0.0, 0.0, 0.0, 0.0, 0.0, 0.0, 2.0, 2.0, 2.0, 2.0, 0.0, 0.0, 0.0, 0.0]  \n",
       "3368                                                                                                                                                                  [1.0, 1.0, 0.0, 0.0]  \n",
       "7311                                [0.0, 0.0, 0.0, 0.0, 0.0, 0.0, 0.0, 0.0, 0.0, 0.0, 0.0, 0.0, 0.0, 0.0, 0.0, 0.0, 1.0, 1.0, 1.0, 0.0, 0.0, 0.0, 0.0, 0.0, 1.0, 0.0, 0.0, 0.0, 0.0, 0.0]  \n",
       "5998  [3.0, 0.0, 0.0, 1.0, 1.0, 0.0, 0.0, 0.0, 0.0, 0.0, 0.0, 0.0, 0.0, 0.0, 0.0, 0.0, 0.0, 0.0, 0.0, 0.0, 0.0, 0.0, 1.0, 1.0, 0.0, 0.0, 0.0, 0.0, 0.0, 0.0, 0.0, 0.0, 0.0, 0.0, 0.0, 0.0]  "
      ]
     },
     "execution_count": 8,
     "metadata": {},
     "output_type": "execute_result"
    }
   ],
   "source": [
    "df1.sample(5)"
   ]
  },
  {
   "cell_type": "code",
   "execution_count": 9,
   "metadata": {},
   "outputs": [
    {
     "data": {
      "text/plain": [
       "ID                                                                                                         NCT01989546\n",
       "tags                                                                                                   81:90:treatment\n",
       "text                         for the duration of study participation, and for 30 days after completing study treatment\n",
       "tokens      [for, the, duration, of, study, participation, ,, and, for, 30, days, after, completing, study, treatment]\n",
       "ner_tags                                   [0.0, 0.0, 0.0, 0.0, 0.0, 0.0, 0.0, 0.0, 0.0, 0.0, 0.0, 0.0, 0.0, 0.0, 1.0]\n",
       "Name: 1177, dtype: object"
      ]
     },
     "execution_count": 9,
     "metadata": {},
     "output_type": "execute_result"
    }
   ],
   "source": [
    "df1.iloc[1177]"
   ]
  },
  {
   "cell_type": "code",
   "execution_count": 10,
   "metadata": {},
   "outputs": [
    {
     "data": {
      "text/plain": [
       "((['for',\n",
       "   'the',\n",
       "   'duration',\n",
       "   'of',\n",
       "   'study',\n",
       "   'participation',\n",
       "   ',',\n",
       "   'and',\n",
       "   'for',\n",
       "   '30',\n",
       "   'days',\n",
       "   'after',\n",
       "   'completing',\n",
       "   'study',\n",
       "   'treatment'],),\n",
       " (array([0., 0., 0., 0., 0., 0., 0., 0., 0., 0., 0., 0., 0., 0., 1.]),))"
      ]
     },
     "execution_count": 10,
     "metadata": {},
     "output_type": "execute_result"
    }
   ],
   "source": [
    "tokens, tags  =zip(*pd.DataFrame(df1.iloc[1177]).T.apply(get_ner_tokens, axis=1))\n",
    "tokens, tags "
   ]
  },
  {
   "cell_type": "code",
   "execution_count": 11,
   "metadata": {},
   "outputs": [],
   "source": [
    "# Drop rows with None values\n",
    "df1.dropna(inplace=True)\n",
    "df2.dropna(inplace=True)\n",
    "df3.dropna(inplace=True)"
   ]
  },
  {
   "cell_type": "code",
   "execution_count": 12,
   "metadata": {},
   "outputs": [
    {
     "data": {
      "text/plain": [
       "['portal', 'fibrosis', 'by', 'liver', 'biopsy']"
      ]
     },
     "execution_count": 12,
     "metadata": {},
     "output_type": "execute_result"
    }
   ],
   "source": [
    "df1[\"tokens\"].iloc[0]"
   ]
  },
  {
   "cell_type": "code",
   "execution_count": 14,
   "metadata": {},
   "outputs": [
    {
     "data": {
      "text/plain": [
       "array([0., 2., 0., 1., 1.])"
      ]
     },
     "execution_count": 14,
     "metadata": {},
     "output_type": "execute_result"
    }
   ],
   "source": [
    "df1[\"ner_tags\"].iloc[0]"
   ]
  },
  {
   "cell_type": "code",
   "execution_count": 15,
   "metadata": {},
   "outputs": [
    {
     "data": {
      "text/html": [
       "<div>\n",
       "<style scoped>\n",
       "    .dataframe tbody tr th:only-of-type {\n",
       "        vertical-align: middle;\n",
       "    }\n",
       "\n",
       "    .dataframe tbody tr th {\n",
       "        vertical-align: top;\n",
       "    }\n",
       "\n",
       "    .dataframe thead th {\n",
       "        text-align: right;\n",
       "    }\n",
       "</style>\n",
       "<table border=\"1\" class=\"dataframe\">\n",
       "  <thead>\n",
       "    <tr style=\"text-align: right;\">\n",
       "      <th></th>\n",
       "      <th>ID</th>\n",
       "      <th>tags</th>\n",
       "      <th>text</th>\n",
       "      <th>tokens</th>\n",
       "      <th>ner_tags</th>\n",
       "    </tr>\n",
       "  </thead>\n",
       "  <tbody>\n",
       "    <tr>\n",
       "      <th>1269</th>\n",
       "      <td>NCT02682147</td>\n",
       "      <td>1:9:chronic_disease</td>\n",
       "      <td>diabetes</td>\n",
       "      <td>[diabetes]</td>\n",
       "      <td>[2.0]</td>\n",
       "    </tr>\n",
       "    <tr>\n",
       "      <th>2394</th>\n",
       "      <td>NCT02931110</td>\n",
       "      <td>65:89:cancer</td>\n",
       "      <td>Rapidly progressive, clinically unstable central nervous system hematological malignancy</td>\n",
       "      <td>[Rapidly, progressive, ,, clinically, unstable, central, nervous, system, hematological, malignancy]</td>\n",
       "      <td>[0.0, 0.0, 0.0, 0.0, 0.0, 0.0, 0.0, 0.0, 3.0, 3.0]</td>\n",
       "    </tr>\n",
       "    <tr>\n",
       "      <th>1690</th>\n",
       "      <td>NCT02422641</td>\n",
       "      <td>,,,67:83:cancer</td>\n",
       "      <td>Alkaline phosphatase &lt;2.5x the ULN or &lt;5x the ULN if secondary to liver metastasis</td>\n",
       "      <td>[Alkaline, phosphatase, &lt;, 2.5x, the, ULN, or, &lt;, 5x, the, ULN, if, secondary, to, liver, metastasis]</td>\n",
       "      <td>[0.0, 0.0, 0.0, 0.0, 0.0, 0.0, 0.0, 0.0, 0.0, 0.0, 0.0, 0.0, 0.0, 0.0, 3.0, 3.0]</td>\n",
       "    </tr>\n",
       "    <tr>\n",
       "      <th>1296</th>\n",
       "      <td>NCT01803451</td>\n",
       "      <td>25:33:chronic_disease</td>\n",
       "      <td>healthy control without diabetes</td>\n",
       "      <td>[healthy, control, without, diabetes]</td>\n",
       "      <td>[0.0, 0.0, 0.0, 2.0]</td>\n",
       "    </tr>\n",
       "    <tr>\n",
       "      <th>2655</th>\n",
       "      <td>NCT02577406</td>\n",
       "      <td>39:76:cancer</td>\n",
       "      <td>Subject has or is suspected of having central nervous system (CNS) leukemia</td>\n",
       "      <td>[Subject, has, or, is, suspected, of, having, central, nervous, system, (, CNS, ), leukemia]</td>\n",
       "      <td>[0.0, 0.0, 0.0, 0.0, 0.0, 0.0, 0.0, 3.0, 3.0, 3.0, 3.0, 3.0, 0.0, 0.0]</td>\n",
       "    </tr>\n",
       "  </tbody>\n",
       "</table>\n",
       "</div>"
      ],
      "text/plain": [
       "               ID                   tags  \\\n",
       "1269  NCT02682147    1:9:chronic_disease   \n",
       "2394  NCT02931110           65:89:cancer   \n",
       "1690  NCT02422641        ,,,67:83:cancer   \n",
       "1296  NCT01803451  25:33:chronic_disease   \n",
       "2655  NCT02577406           39:76:cancer   \n",
       "\n",
       "                                                                                          text  \\\n",
       "1269                                                                                  diabetes   \n",
       "2394  Rapidly progressive, clinically unstable central nervous system hematological malignancy   \n",
       "1690        Alkaline phosphatase <2.5x the ULN or <5x the ULN if secondary to liver metastasis   \n",
       "1296                                                          healthy control without diabetes   \n",
       "2655               Subject has or is suspected of having central nervous system (CNS) leukemia   \n",
       "\n",
       "                                                                                                     tokens  \\\n",
       "1269                                                                                             [diabetes]   \n",
       "2394   [Rapidly, progressive, ,, clinically, unstable, central, nervous, system, hematological, malignancy]   \n",
       "1690  [Alkaline, phosphatase, <, 2.5x, the, ULN, or, <, 5x, the, ULN, if, secondary, to, liver, metastasis]   \n",
       "1296                                                                  [healthy, control, without, diabetes]   \n",
       "2655           [Subject, has, or, is, suspected, of, having, central, nervous, system, (, CNS, ), leukemia]   \n",
       "\n",
       "                                                                              ner_tags  \n",
       "1269                                                                             [2.0]  \n",
       "2394                                [0.0, 0.0, 0.0, 0.0, 0.0, 0.0, 0.0, 0.0, 3.0, 3.0]  \n",
       "1690  [0.0, 0.0, 0.0, 0.0, 0.0, 0.0, 0.0, 0.0, 0.0, 0.0, 0.0, 0.0, 0.0, 0.0, 3.0, 3.0]  \n",
       "1296                                                              [0.0, 0.0, 0.0, 2.0]  \n",
       "2655            [0.0, 0.0, 0.0, 0.0, 0.0, 0.0, 0.0, 3.0, 3.0, 3.0, 3.0, 3.0, 0.0, 0.0]  "
      ]
     },
     "execution_count": 15,
     "metadata": {},
     "output_type": "execute_result"
    }
   ],
   "source": [
    "df1.sample(5)"
   ]
  },
  {
   "cell_type": "code",
   "execution_count": 16,
   "metadata": {},
   "outputs": [],
   "source": [
    "# convert list to array for labels and tokens\n",
    "df1[\"tokens\"] = df1[\"tokens\"].apply(np.array)\n",
    "df2[\"tokens\"] = df2[\"tokens\"].apply(np.array)\n",
    "df3[\"tokens\"] = df3[\"tokens\"].apply(np.array)\n",
    "\n",
    "df1[\"ner_tags\"] = df1[\"ner_tags\"].apply(np.array)\n",
    "df2[\"ner_tags\"] = df2[\"ner_tags\"].apply(np.array)\n",
    "df3[\"ner_tags\"] = df3[\"ner_tags\"].apply(np.array)"
   ]
  },
  {
   "cell_type": "code",
   "execution_count": 17,
   "metadata": {},
   "outputs": [],
   "source": [
    "df1.to_csv(\"processed_data/G1.csv\", index=False)\n",
    "df2.to_csv(\"processed_data/G2.csv\", index=False)\n",
    "df3.to_csv(\"processed_data/G3.csv\", index=False)"
   ]
  },
  {
   "cell_type": "code",
   "execution_count": 18,
   "metadata": {},
   "outputs": [],
   "source": [
    "# df1 = pd.read_csv(\"processed_data/G1.csv\")\n",
    "# df2 = pd.read_csv(\"processed_data/G2.csv\")\n",
    "# df3 = pd.read_csv(\"processed_data/G3.csv\")\n",
    "\n",
    "# add new feature dataset_id\n",
    "df1[\"dataset_num\"] = 1\n",
    "df2[\"dataset_num\"] = 2\n",
    "df3[\"dataset_num\"] = 3"
   ]
  },
  {
   "cell_type": "code",
   "execution_count": 19,
   "metadata": {},
   "outputs": [
    {
     "data": {
      "text/plain": [
       "array(['For', 'subjects', 'with', 'elevated', 'liver', 'tests', 'as',\n",
       "       'defined', 'above', ',', 'local', 'pathology', 'reading', 'of',\n",
       "       'liver', 'biopsy', '6-10', 'days', 'after', 'darTregs', 'infusion',\n",
       "       'is', 'without', 'AR', 'according', 'to', 'Banff', 'criteria'],\n",
       "      dtype='<U9')"
      ]
     },
     "execution_count": 19,
     "metadata": {},
     "output_type": "execute_result"
    }
   ],
   "source": [
    "df1[\"tokens\"].iloc[5]"
   ]
  },
  {
   "cell_type": "code",
   "execution_count": 20,
   "metadata": {},
   "outputs": [
    {
     "data": {
      "text/plain": [
       "array([0., 0., 0., 0., 1., 1., 0., 0., 0., 0., 0., 0., 0., 0., 0., 0., 0.,\n",
       "       0., 0., 0., 0., 0., 0., 0., 0., 0., 0., 0.])"
      ]
     },
     "execution_count": 20,
     "metadata": {},
     "output_type": "execute_result"
    }
   ],
   "source": [
    "df1[\"ner_tags\"].iloc[5]"
   ]
  },
  {
   "cell_type": "code",
   "execution_count": 21,
   "metadata": {},
   "outputs": [],
   "source": [
    "# def rename_cols(df):\n",
    "#     df.rename(columns={\"ID\": \"id\", \"labels\": \"ner_tags\"}, inplace=True)\n",
    "#     return df\n",
    "\n",
    "# df1 = rename_cols(df1)\n",
    "# df2 = rename_cols(df2)\n",
    "# df3 = rename_cols(df3)"
   ]
  },
  {
   "cell_type": "code",
   "execution_count": 22,
   "metadata": {},
   "outputs": [],
   "source": [
    "custom_dataset = pd.concat([df1, df2, df3], ignore_index=True)"
   ]
  },
  {
   "cell_type": "code",
   "execution_count": 23,
   "metadata": {},
   "outputs": [
    {
     "data": {
      "text/plain": [
       "dataset_num\n",
       "1    7223\n",
       "2    6348\n",
       "3    6138\n",
       "Name: count, dtype: int64"
      ]
     },
     "execution_count": 23,
     "metadata": {},
     "output_type": "execute_result"
    }
   ],
   "source": [
    "custom_dataset.dataset_num.value_counts()"
   ]
  },
  {
   "cell_type": "markdown",
   "metadata": {},
   "source": [
    "# Saving data to dataset format"
   ]
  },
  {
   "cell_type": "code",
   "execution_count": 26,
   "metadata": {},
   "outputs": [],
   "source": [
    "huggingface_dataset = {\n",
    "    \"ID\": custom_dataset[\"ID\"],\n",
    "    \"tags\": custom_dataset[\"tags\"],\n",
    "    \"text\": custom_dataset[\"text\"],\n",
    "    \"dataset_num\" : custom_dataset[\"dataset_num\"],\n",
    "    \"tokens\": custom_dataset[\"tokens\"],\n",
    "    \"ner_tags\": custom_dataset[\"ner_tags\"],\n",
    "}\n",
    "\n",
    "# Create a Hugging Face Dataset object\n",
    "dataset = Dataset.from_dict(huggingface_dataset)\n"
   ]
  },
  {
   "cell_type": "code",
   "execution_count": 27,
   "metadata": {},
   "outputs": [
    {
     "data": {
      "application/vnd.jupyter.widget-view+json": {
       "model_id": "0568ddb95d4d4a0ab538294fc8c815d6",
       "version_major": 2,
       "version_minor": 0
      },
      "text/plain": [
       "Saving the dataset (0/1 shards):   0%|          | 0/19709 [00:00<?, ? examples/s]"
      ]
     },
     "metadata": {},
     "output_type": "display_data"
    }
   ],
   "source": [
    "dataset.save_to_disk(\"custom_dataset\")"
   ]
  },
  {
   "cell_type": "markdown",
   "metadata": {},
   "source": [
    "# Pushing the dataset to huggingface"
   ]
  },
  {
   "cell_type": "code",
   "execution_count": 28,
   "metadata": {},
   "outputs": [],
   "source": [
    "import sys\n",
    "import os\n",
    "\n",
    "if 'kaggle_web_client' in sys.modules:\n",
    "    from kaggle_secrets import UserSecretsClient\n",
    "    user_secrets = UserSecretsClient()\n",
    "    HUGGINGFACE_API_KEY = user_secrets.get_secret(\"HUGGINGFACE_API_KEY\")\n",
    "elif 'google.colab' in sys.modules:\n",
    "    !pip -q install python-dotenv\n",
    "    from dotenv import load_dotenv\n",
    "    load_dotenv()\n",
    "    HUGGINGFACE_API_KEY = os.getenv('HUGGINGFACE_API_KEY')\n",
    "\n",
    "else:\n",
    "    from dotenv import load_dotenv\n",
    "    load_dotenv()\n",
    "    HUGGINGFACE_API_KEY = os.getenv('HUGGINGFACE_API_KEY')"
   ]
  },
  {
   "cell_type": "code",
   "execution_count": 29,
   "metadata": {},
   "outputs": [
    {
     "name": "stdout",
     "output_type": "stream",
     "text": [
      "Token will not been saved to git credential helper. Pass `add_to_git_credential=True` if you want to set the git credential as well.\n",
      "Token is valid (permission: write).\n",
      "Your token has been saved to /home/shailja/.cache/huggingface/token\n",
      "Login successful\n"
     ]
    }
   ],
   "source": [
    "from huggingface_hub import notebook_login\n",
    "from huggingface_hub import login\n",
    "login(token=HUGGINGFACE_API_KEY, write_permission=True)"
   ]
  },
  {
   "cell_type": "code",
   "execution_count": 30,
   "metadata": {},
   "outputs": [
    {
     "data": {
      "text/plain": [
       "Dataset({\n",
       "    features: ['ID', 'tags', 'text', 'dataset_num', 'tokens', 'ner_tags'],\n",
       "    num_rows: 19709\n",
       "})"
      ]
     },
     "execution_count": 30,
     "metadata": {},
     "output_type": "execute_result"
    }
   ],
   "source": [
    "dataset"
   ]
  },
  {
   "cell_type": "code",
   "execution_count": 31,
   "metadata": {},
   "outputs": [
    {
     "data": {
      "application/vnd.jupyter.widget-view+json": {
       "model_id": "6690b5055c194b72825871d0fcd3bd5b",
       "version_major": 2,
       "version_minor": 0
      },
      "text/plain": [
       "Pushing dataset shards to the dataset hub:   0%|          | 0/1 [00:00<?, ?it/s]"
      ]
     },
     "metadata": {},
     "output_type": "display_data"
    },
    {
     "data": {
      "application/vnd.jupyter.widget-view+json": {
       "model_id": "6b46c216799145678e896876a18e6531",
       "version_major": 2,
       "version_minor": 0
      },
      "text/plain": [
       "Creating parquet from Arrow format:   0%|          | 0/20 [00:00<?, ?ba/s]"
      ]
     },
     "metadata": {},
     "output_type": "display_data"
    },
    {
     "data": {
      "application/vnd.jupyter.widget-view+json": {
       "model_id": "f223c3a9fa2644e994eab22dfa90f454",
       "version_major": 2,
       "version_minor": 0
      },
      "text/plain": [
       "Upload 1 LFS files:   0%|          | 0/1 [00:00<?, ?it/s]"
      ]
     },
     "metadata": {},
     "output_type": "display_data"
    },
    {
     "data": {
      "application/vnd.jupyter.widget-view+json": {
       "model_id": "65112d5167e0429f9baa520464e260f0",
       "version_major": 2,
       "version_minor": 0
      },
      "text/plain": [
       "Deleting unused files from dataset repository:   0%|          | 0/1 [00:00<?, ?it/s]"
      ]
     },
     "metadata": {},
     "output_type": "display_data"
    },
    {
     "data": {
      "application/vnd.jupyter.widget-view+json": {
       "model_id": "2de76de758a44c50a9279a55ea56e6e8",
       "version_major": 2,
       "version_minor": 0
      },
      "text/plain": [
       "Downloading metadata:   0%|          | 0.00/391 [00:00<?, ?B/s]"
      ]
     },
     "metadata": {},
     "output_type": "display_data"
    },
    {
     "name": "stderr",
     "output_type": "stream",
     "text": [
      "Updating downloaded metadata with the new split.\n"
     ]
    }
   ],
   "source": [
    "dataset.push_to_hub(\"SKT27182/NER\")"
   ]
  }
 ],
 "metadata": {
  "kernelspec": {
   "display_name": "Python 3",
   "language": "python",
   "name": "python3"
  },
  "language_info": {
   "codemirror_mode": {
    "name": "ipython",
    "version": 3
   },
   "file_extension": ".py",
   "mimetype": "text/x-python",
   "name": "python",
   "nbconvert_exporter": "python",
   "pygments_lexer": "ipython3",
   "version": "3.10.12"
  }
 },
 "nbformat": 4,
 "nbformat_minor": 2
}
